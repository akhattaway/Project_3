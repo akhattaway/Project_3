{
 "cells": [
  {
   "cell_type": "code",
   "execution_count": 3,
   "metadata": {},
   "outputs": [],
   "source": [
    "# Import dependencies\n",
    "import pandas as pd\n",
    "import numpy as np\n"
   ]
  },
  {
   "cell_type": "code",
   "execution_count": 8,
   "metadata": {},
   "outputs": [
    {
     "name": "stdout",
     "output_type": "stream",
     "text": [
      "<class 'pandas.core.frame.DataFrame'>\n",
      "RangeIndex: 32013 entries, 0 to 32012\n",
      "Data columns (total 72 columns):\n",
      " #   Column                          Non-Null Count  Dtype  \n",
      "---  ------                          --------------  -----  \n",
      " 0   ID                              32013 non-null  int64  \n",
      " 1   Created at                      32013 non-null  object \n",
      " 2   Updated at                      32013 non-null  object \n",
      " 3   Hs deal ID                      32013 non-null  int64  \n",
      " 4   Hs deal name                    32013 non-null  object \n",
      " 5   Hs pending design at            22424 non-null  object \n",
      " 6   Hs turnaround time              19790 non-null  float64\n",
      " 7   Hs description                  20079 non-null  object \n",
      " 8   Originial due at                22424 non-null  object \n",
      " 9   Hs designer ID                  28630 non-null  float64\n",
      " 10  Hs asset creation link          846 non-null    object \n",
      " 11  Due at                          22425 non-null  object \n",
      " 12  Assigned at                     28630 non-null  object \n",
      " 13  Hs asset creator                6593 non-null   object \n",
      " 14  Hs delivery date at             6536 non-null   object \n",
      " 15  Hs client name                  30806 non-null  object \n",
      " 16  Hs stage                        32002 non-null  object \n",
      " 17  Slug                            32013 non-null  object \n",
      " 18  Bd it                           32013 non-null  bool   \n",
      " 19  Hs company name                 31288 non-null  object \n",
      " 20  Hs owner ID                     31459 non-null  float64\n",
      " 21  Hs quantity                     13333 non-null  float64\n",
      " 22  Hs shipper number               5964 non-null   object \n",
      " 23  Hs distributor po               8517 non-null   object \n",
      " 24  Hs client type                  31997 non-null  object \n",
      " 25  Hs payment terms                28975 non-null  object \n",
      " 26  Qb customer ID                  17284 non-null  float64\n",
      " 27  Hs number destinations          27696 non-null  float64\n",
      " 28  Po number                       17484 non-null  float64\n",
      " 29  Portal created                  15079 non-null  object \n",
      " 30  Hs ship blind                   19524 non-null  object \n",
      " 31  External production             0 non-null      float64\n",
      " 32  Accounting email                15024 non-null  object \n",
      " 33  Tracking email                  10654 non-null  object \n",
      " 34  Tracking phone                  5472 non-null   object \n",
      " 35  Hs company ID                   22216 non-null  float64\n",
      " 36  Company color                   16287 non-null  object \n",
      " 37  Products auto generated         0 non-null      float64\n",
      " 38  Shipping reference              5177 non-null   object \n",
      " 39  Hs production files link        2 non-null      object \n",
      " 40  Odoo status                     0 non-null      float64\n",
      " 41  Change order ID                 0 non-null      float64\n",
      " 42  Ops notes                       0 non-null      float64\n",
      " 43  New inquiry token               0 non-null      float64\n",
      " 44  Referrer                        0 non-null      float64\n",
      " 45  Hs design difficulty            20430 non-null  object \n",
      " 46  Automation tool                 14858 non-null  float64\n",
      " 47  Hs project name                 25056 non-null  object \n",
      " 48  Viewed designs                  0 non-null      float64\n",
      " 49  Client notes                    17776 non-null  object \n",
      " 50  Stage changed at                31998 non-null  object \n",
      " 51  Hs last activity at             13154 non-null  object \n",
      " 52  Hs do not send auto follow ups  1527 non-null   object \n",
      " 53  First follow up sent at         0 non-null      float64\n",
      " 54  Second follow up sent at        0 non-null      float64\n",
      " 55  Hs auto follow up count         0 non-null      float64\n",
      " 56  Follow up task created at       0 non-null      float64\n",
      " 57  Hs next activity at             0 non-null      float64\n",
      " 58  Mockups ready at                26385 non-null  object \n",
      " 59  Needs preview updated           2538 non-null   object \n",
      " 60  Skip production checks          6 non-null      object \n",
      " 61  Tier                            50 non-null     float64\n",
      " 62  Mockup due date                 19773 non-null  object \n",
      " 63  Status                          12099 non-null  float64\n",
      " 64  Turnaround changed              16282 non-null  object \n",
      " 65  Hs dealtype                     28453 non-null  object \n",
      " 66  Hs requires production files    2 non-null      object \n",
      " 67  Design needs fix                10132 non-null  object \n",
      " 68  Tax exempt at                   2070 non-null   object \n",
      " 69  Project status                  12084 non-null  object \n",
      " 70  Pending collaborators           32013 non-null  object \n",
      " 71  Created on                      32013 non-null  object \n",
      "dtypes: bool(1), float64(24), int64(2), object(45)\n",
      "memory usage: 17.4+ MB\n"
     ]
    },
    {
     "name": "stderr",
     "output_type": "stream",
     "text": [
      "C:\\Users\\KatreeceHattaway\\AppData\\Local\\Temp\\ipykernel_2976\\1018216156.py:2: DtypeWarning: Columns (39,51,52,66) have mixed types. Specify dtype option on import or set low_memory=False.\n",
      "  deal_info_df = pd.read_csv('../Data_Resources/deals_table.csv')\n"
     ]
    }
   ],
   "source": [
    "# Read the deal data into a Pandas DataFrame get info on tables\n",
    "deal_info_df = pd.read_csv('../Data_Resources/deals_table.csv')\n",
    "deal_info_df.info()"
   ]
  },
  {
   "cell_type": "code",
   "execution_count": 9,
   "metadata": {},
   "outputs": [
    {
     "name": "stdout",
     "output_type": "stream",
     "text": [
      "<class 'pandas.core.frame.DataFrame'>\n",
      "RangeIndex: 88307 entries, 0 to 88306\n",
      "Data columns (total 57 columns):\n",
      " #   Column                   Non-Null Count  Dtype  \n",
      "---  ------                   --------------  -----  \n",
      " 0   ID                       88307 non-null  int64  \n",
      " 1   Bmp URL                  88307 non-null  object \n",
      " 2   Top color                87970 non-null  object \n",
      " 3   Heel color               88157 non-null  object \n",
      " 4   Toe color                88157 non-null  object \n",
      " 5   Created at               88307 non-null  object \n",
      " 6   Updated at               88307 non-null  object \n",
      " 7   Fsb URL                  0 non-null      float64\n",
      " 8   Version number           88293 non-null  float64\n",
      " 9   Design number            88307 non-null  int64  \n",
      " 10  Colors URL               0 non-null      float64\n",
      " 11  Chassis                  88307 non-null  int64  \n",
      " 12  Size                     88307 non-null  int64  \n",
      " 13  Fsb blob ID              11375 non-null  float64\n",
      " 14  Colors                   88302 non-null  object \n",
      " 15  Bmp blob ID              88113 non-null  float64\n",
      " 16  Bmp width                88300 non-null  float64\n",
      " 17  Bmp height               88300 non-null  float64\n",
      " 18  Plating yarn             87561 non-null  float64\n",
      " 19  Cuff plating yarn        87561 non-null  float64\n",
      " 20  Odoo SKU                 1 non-null      float64\n",
      " 21  Cuff bmp URL             162 non-null    object \n",
      " 22  Tipping stripe color     406 non-null    object \n",
      " 23  Is legacy                88307 non-null  bool   \n",
      " 24  Is odoo import           86516 non-null  object \n",
      " 25  Odoo name                1 non-null      object \n",
      " 26  Odoo update design       0 non-null      float64\n",
      " 27  Odoo reference SKU       0 non-null      float64\n",
      " 28  Favorited at             1525 non-null   object \n",
      " 29  Elastic color            88254 non-null  object \n",
      " 30  Odoo loading             88307 non-null  bool   \n",
      " 31  Logo location            0 non-null      float64\n",
      " 32  Hidden at                4161 non-null   object \n",
      " 33  Product info ID          88147 non-null  float64\n",
      " 34  Realistic blob ID        85999 non-null  float64\n",
      " 35  Left sock                88307 non-null  bool   \n",
      " 36  Logo blob ID             6655 non-null   float64\n",
      " 37  Customer mockup blob ID  7523 non-null   float64\n",
      " 38  Color changed by         2128 non-null   float64\n",
      " 39  Color changed at         2128 non-null   object \n",
      " 40  SKU created at           0 non-null      float64\n",
      " 41  Auto SKU                 0 non-null      float64\n",
      " 42  Front blob ID            85727 non-null  float64\n",
      " 43  Back blob ID             85725 non-null  float64\n",
      " 44  Side blob ID             85720 non-null  float64\n",
      " 45  Preview                  0 non-null      float64\n",
      " 46  Preview location         0 non-null      float64\n",
      " 47  Original preview URL     7454 non-null   object \n",
      " 48  Artboard bmp blob ID     6254 non-null   float64\n",
      " 49  Locked                   8472 non-null   object \n",
      " 50  Viewed at                35505 non-null  object \n",
      " 51  Limited price set        88307 non-null  bool   \n",
      " 52  Odoo import changes      1 non-null      object \n",
      " 53  Previously ordered       8499 non-null   object \n",
      " 54  Design source            41280 non-null  object \n",
      " 55  Designer ID              84074 non-null  float64\n",
      " 56  Parent mockup ID         230 non-null    float64\n",
      "dtypes: bool(4), float64(28), int64(4), object(21)\n",
      "memory usage: 36.0+ MB\n"
     ]
    },
    {
     "name": "stderr",
     "output_type": "stream",
     "text": [
      "C:\\Users\\KatreeceHattaway\\AppData\\Local\\Temp\\ipykernel_2976\\1258056661.py:2: DtypeWarning: Columns (25,52,54) have mixed types. Specify dtype option on import or set low_memory=False.\n",
      "  mockups_df = pd.read_csv('../Data_Resources/mockups_table.csv')\n"
     ]
    }
   ],
   "source": [
    "# Read the deal data into a Pandas DataFrame get info on tables\n",
    "mockups_df = pd.read_csv('../Data_Resources/mockups_table.csv')\n",
    "mockups_df.info()"
   ]
  },
  {
   "cell_type": "code",
   "execution_count": 10,
   "metadata": {},
   "outputs": [
    {
     "name": "stdout",
     "output_type": "stream",
     "text": [
      "<class 'pandas.core.frame.DataFrame'>\n",
      "RangeIndex: 20684 entries, 0 to 20683\n",
      "Data columns (total 11 columns):\n",
      " #   Column          Non-Null Count  Dtype  \n",
      "---  ------          --------------  -----  \n",
      " 0   ID              20684 non-null  int64  \n",
      " 1   Mockup ID       16933 non-null  float64\n",
      " 2   Version number  16933 non-null  float64\n",
      " 3   Completed at    15925 non-null  object \n",
      " 4   Created at      20684 non-null  object \n",
      " 5   Updated at      20684 non-null  object \n",
      " 6   Packaging ID    2792 non-null   float64\n",
      " 7   Product ID      367 non-null    float64\n",
      " 8   Sock pair ID    568 non-null    float64\n",
      " 9   Base version    16933 non-null  float64\n",
      " 10  Read at         7741 non-null   object \n",
      "dtypes: float64(6), int64(1), object(4)\n",
      "memory usage: 1.7+ MB\n"
     ]
    }
   ],
   "source": [
    "# Read the deal data into a Pandas DataFrame get info on tables\n",
    "revisions_df = pd.read_csv('../Data_Resources/revisions_table.csv')\n",
    "revisions_df.info()"
   ]
  },
  {
   "cell_type": "code",
   "execution_count": 11,
   "metadata": {},
   "outputs": [
    {
     "name": "stdout",
     "output_type": "stream",
     "text": [
      "<class 'pandas.core.frame.DataFrame'>\n",
      "RangeIndex: 34383 entries, 0 to 34382\n",
      "Data columns (total 20 columns):\n",
      " #   Column                     Non-Null Count  Dtype  \n",
      "---  ------                     --------------  -----  \n",
      " 0   ID                         34383 non-null  int64  \n",
      " 1   Mockup ID                  17136 non-null  float64\n",
      " 2   Created at                 34383 non-null  object \n",
      " 3   Updated at                 34383 non-null  object \n",
      " 4   Packaging ID               12281 non-null  float64\n",
      " 5   Product ID                 496 non-null    float64\n",
      " 6   Sock pair ID               1090 non-null   float64\n",
      " 7   Created on                 34383 non-null  object \n",
      " 8   Mockup version             17136 non-null  float64\n",
      " 9   Quantity                   34382 non-null  float64\n",
      " 10  Manufacturing shipment ID  34383 non-null  int64  \n",
      " 11  Finishing item ID          4470 non-null   float64\n",
      " 12  Manufacturing ID           29839 non-null  float64\n",
      " 13  Vendor ID                  29935 non-null  float64\n",
      " 14  Finisher ID                29940 non-null  float64\n",
      " 15  Production deadline        29928 non-null  object \n",
      " 16  Product info ID            29913 non-null  float64\n",
      " 17  Paired SKU                 1176 non-null   object \n",
      " 18  Kit number                 34382 non-null  float64\n",
      " 19  Bundle ID                  31285 non-null  float64\n",
      "dtypes: float64(13), int64(2), object(5)\n",
      "memory usage: 5.2+ MB\n"
     ]
    }
   ],
   "source": [
    "# Read the deal data into a Pandas DataFrame get info on tables\n",
    "mfg_products_df = pd.read_csv('../Data_Resources/mfg_products_table.csv')\n",
    "mfg_products_df.info()"
   ]
  },
  {
   "cell_type": "code",
   "execution_count": 12,
   "metadata": {},
   "outputs": [
    {
     "name": "stdout",
     "output_type": "stream",
     "text": [
      "<class 'pandas.core.frame.DataFrame'>\n",
      "RangeIndex: 34383 entries, 0 to 34382\n",
      "Data columns (total 20 columns):\n",
      " #   Column                     Non-Null Count  Dtype  \n",
      "---  ------                     --------------  -----  \n",
      " 0   ID                         34383 non-null  int64  \n",
      " 1   Mockup ID                  17136 non-null  float64\n",
      " 2   Created at                 34383 non-null  object \n",
      " 3   Updated at                 34383 non-null  object \n",
      " 4   Packaging ID               12281 non-null  float64\n",
      " 5   Product ID                 496 non-null    float64\n",
      " 6   Sock pair ID               1090 non-null   float64\n",
      " 7   Created on                 34383 non-null  object \n",
      " 8   Mockup version             17136 non-null  float64\n",
      " 9   Quantity                   34382 non-null  float64\n",
      " 10  Manufacturing shipment ID  34383 non-null  int64  \n",
      " 11  Finishing item ID          4470 non-null   float64\n",
      " 12  Manufacturing ID           29839 non-null  float64\n",
      " 13  Vendor ID                  29935 non-null  float64\n",
      " 14  Finisher ID                29940 non-null  float64\n",
      " 15  Production deadline        29928 non-null  object \n",
      " 16  Product info ID            29913 non-null  float64\n",
      " 17  Paired SKU                 1176 non-null   object \n",
      " 18  Kit number                 34382 non-null  float64\n",
      " 19  Bundle ID                  31285 non-null  float64\n",
      "dtypes: float64(13), int64(2), object(5)\n",
      "memory usage: 5.2+ MB\n"
     ]
    }
   ],
   "source": [
    "# Read the deal data into a Pandas DataFrame get info on tables\n",
    "cart_items_df = pd.read_csv('../Data_Resources/mfg_products_table.csv')\n",
    "cart_items_df.info()"
   ]
  }
 ],
 "metadata": {
  "kernelspec": {
   "display_name": "Python 3",
   "language": "python",
   "name": "python3"
  },
  "language_info": {
   "codemirror_mode": {
    "name": "ipython",
    "version": 3
   },
   "file_extension": ".py",
   "mimetype": "text/x-python",
   "name": "python",
   "nbconvert_exporter": "python",
   "pygments_lexer": "ipython3",
   "version": "3.12.1"
  }
 },
 "nbformat": 4,
 "nbformat_minor": 2
}
